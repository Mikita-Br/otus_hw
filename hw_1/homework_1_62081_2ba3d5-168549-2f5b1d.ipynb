{
 "cells": [
  {
   "cell_type": "markdown",
   "metadata": {
    "id": "0qneeLzJ_x4f"
   },
   "source": [
    "# <center> Homework 1 </center>"
   ]
  },
  {
   "cell_type": "markdown",
   "metadata": {
    "id": "T_Mc8mbG_x4l"
   },
   "source": [
    "# 0. Где мы сейчас?\n",
    "<img src=\"https://upload.wikimedia.org/wikipedia/commons/thumb/3/38/Jupyter_logo.svg/1200px-Jupyter_logo.svg.png\" width=\"150\">\n",
    "\n",
    "[Jupyter Notebook](https://jupyter.org/) - интерактивная среда для запуска программного кода в браузере. Удобный инструмент для анализа данных, который используется многими специалистами по data science. Позволяет выполнять отдельные ячейки с кодом, а не всю программу сразу, что очень удобно при знакомстве с данными."
   ]
  },
  {
   "cell_type": "markdown",
   "metadata": {
    "id": "Y4H0Bmgr_x4o"
   },
   "source": [
    "# 1. Python\n",
    "> Python - это свободный интерпретируемый объектно-ориентированный расширяемый встраиваемый язык программирования очень высокого уровня\n",
    "\n",
    ">*(Г.Россум, Ф.Л.Дж.Дрейк, Д.С.Откидач \"Язык программирования Python\").*\n",
    "\n",
    "А если без цитат, то питон - это просто очень крутой язык, созданный в 1991 году [Великодушным пожизненным диктатором](https://ru.wikipedia.org/wiki/%D0%92%D0%B5%D0%BB%D0%B8%D0%BA%D0%BE%D0%B4%D1%83%D1%88%D0%BD%D1%8B%D0%B9_%D0%BF%D0%BE%D0%B6%D0%B8%D0%B7%D0%BD%D0%B5%D0%BD%D0%BD%D1%8B%D0%B9_%D0%B4%D0%B8%D0%BA%D1%82%D0%B0%D1%82%D0%BE%D1%80) Гвидо ван Россумом и названный в честь любимого им шоу [Monty Python's Flying Circus](https://en.wikipedia.org/wiki/Monty_Python%27s_Flying_Circus)\n",
    "\n",
    "<img src=\"https://advancelocal-adapter-image-uploads.s3.amazonaws.com/image.oregonlive.com/home/olive-media/width2048/img/tv/photo/2018/10/10/montycastjpg-7ef393e2355a42aa.jpg\" width=\"300\">"
   ]
  },
  {
   "cell_type": "markdown",
   "metadata": {
    "id": "lmUKztzM_x4p"
   },
   "source": [
    "# 2. Anaconda\n",
    "\n",
    "<img src=\"https://cdn-images-1.medium.com/max/1600/0*MVkCW8_Bmj-nuAnI.png\" width=\"300\">\n",
    "\n",
    "[Сборка Anaconda](https://www.anaconda.com/products/individual) включает очень много полезных библиотек для анализа данных.\n",
    "\n",
    "Среди наиболее популярных библиотек:\n",
    " - <a href=\"http://numpy.org\">Numpy</a> - это один из основных пакетов для математических вычислений. Он содержит средства для работы с многомерными массивами и высокоуровневыми математическими функциями\n",
    " - <a href=\"https://www.scipy.org/\">SciPy</a> - научные вычисления. Методы оптимизации, интегрирования, модули обработки сигналов и изображений, статистика, линейная алгебра, сплайны, кластеризация и многое другое\n",
    " -  <a href=\"http://pandas.pydata.org/\">Pandas</a> - основная библиотека для обработки и анализа данных. Предназначена для данных разной природы - матричных, панельных данных, временных рядов. Претендует на звание самого мощного и гибкого средства для анализа данных с открытым исходным кодом\n",
    " - <a href=\"http://scikit-learn.org/stable/\">Scikit-learn</a> - реализация очень многих методов машинного обучения с отличной документацией.\n",
    " - <a href=\"http://http://matplotlib.org/\">matplotlib</a> - хорошая библиотека для визуализации данных"
   ]
  },
  {
   "cell_type": "markdown",
   "metadata": {
    "id": "4arK0W4j_x4r"
   },
   "source": [
    "# 3. Задачки"
   ]
  },
  {
   "cell_type": "markdown",
   "metadata": {
    "id": "m7rY4NE7_x4s"
   },
   "source": [
    "## Задача 1\n",
    "$N$ хоббитов делят $K$ кусков эльфийского хлеба поровну, не делящийся нацело остаток остается в корзинке у Сэма. Напишите функцию, которая принимает на вход параметры $N$ и $K$ и возвращает два числа: $x$ - cколько кусков эльфиского хлеба достанется каждому хоббиту, и $y$ - сколько кусков остаётся в корзинке."
   ]
  },
  {
   "cell_type": "code",
   "execution_count": null,
   "metadata": {
    "ExecuteTime": {
     "start_time": "2023-09-13T19:50:55.512484279Z"
    },
    "id": "eaHCJbFW_x4t",
    "is_executing": true
   },
   "outputs": [],
   "source": [
    "def share_bread(N: int, K: int) -> tuple[int, int]:\n",
    "    # your code here\n",
    "    x, y = divmod(K, N)\n",
    "    return x, y\n",
    "\n",
    "\n",
    "# если в функции всё верно, то после выполнения этой строчки, не должно выскакивать ошибок\n",
    "assert share_bread(N=3, K=14) == (4, 2)"
   ]
  },
  {
   "cell_type": "markdown",
   "metadata": {
    "id": "iDD9RcCA_x4y"
   },
   "source": [
    "## Задача 2\n",
    "\n",
    "В копях Мории хоббиты нашли стену, на которой высечены разные натуральные числа. Согласно древним сказаниям, это даты сражений. Хоббиты знают, что сражения происходили только по високосным годам. Помогите хоббитам определить, является ли год с данным числом датой великого сражения. Если это так, то верните строку \"YOU SHALL PASS\", иначе верните \"YOU SHALL NOT PASS\". Напомним, что в соответствии с хоббитским календарем, год является високосным, если его номер кратен 4, но не кратен 100, а также если он кратен 400."
   ]
  },
  {
   "cell_type": "code",
   "execution_count": null,
   "metadata": {
    "ExecuteTime": {
     "end_time": "2023-09-14T08:25:15.166095302Z",
     "start_time": "2023-09-14T08:25:15.161700088Z"
    },
    "id": "LMavwv6R_x4z"
   },
   "outputs": [],
   "source": [
    "def leap_year(year: int) -> str:\n",
    "    # your code here\n",
    "    text_result = \"YOU SHALL PASS\" if (year % 4 == 0 and year % 100 != 0) or year % 400 == 0 else \"YOU SHALL NOT PASS\"\n",
    "    return text_result\n",
    "\n",
    "\n",
    "assert leap_year(5) == 'YOU SHALL NOT PASS'"
   ]
  },
  {
   "cell_type": "markdown",
   "metadata": {
    "id": "GlR9t0rP_x40"
   },
   "source": [
    "## Задача 3\n",
    "<img src=\"http://i0.kym-cdn.com/photos/images/original/001/187/255/5e9.gif\" width=300>\n",
    "Для могущественного магического ритуала Гендальфу необходимо быстро подсчитывать площадь своего амулета, который умеет менять размеры. Известно, что амулет имеет форму треугольника и Гендальф знает длину каждой из сторон. Напишите функцию, которая считает площадь амулета по трем сторонам.  \n",
    "\n",
    "Подсказка: используйте формулу Герона\n",
    "$$ S = \\sqrt{p(p-a)(p-b)(p-c)} $$\n",
    "$$ p = \\frac{a + b + c}{2}$$\n"
   ]
  },
  {
   "cell_type": "code",
   "execution_count": null,
   "metadata": {
    "id": "bbHQj-Us_x41",
    "is_executing": true
   },
   "outputs": [],
   "source": [
    "from math import sqrt\n",
    "\n",
    "def amulet_area(a: int, b: int, c: int) -> float:\n",
    "    # your code here\n",
    "    p = (a + b + c) / 2\n",
    "    S = sqrt(p * (p - a) * (p - b) * (p - c))\n",
    "    return S\n",
    "\n",
    "\n",
    "assert amulet_area(3, 4, 5) == 6"
   ]
  },
  {
   "cell_type": "markdown",
   "metadata": {
    "id": "czLEU_YS_x42"
   },
   "source": [
    "## Задача 4\n",
    "\n",
    "Хоббиты собираются пешком идти до Мордора и им нужно подсчитать расстояние, которое им предстоит пройти. Хоббиты смогли вспомнить сразу несколько метрик расстояния: евклидово, манхэттена и косинусное, так что ваша задача - напистаь функцию под каждую из них. Важное условие - используйте только базовые функции numpy для решения.\n",
    "\n",
    "\n",
    "* Евклидово расстояние\n",
    "$$ d(a, b) = \\sqrt{\\sum_i (a_i - b_i)^2} $$\n",
    "* Расстояние Манхэттена\n",
    "$$ d(a, b) = \\sum_i |a_i - b_i| $$\n",
    "* Косинусное расстояние\n",
    "$$ d(a, b) = 1 - \\frac{a^\\top b}{||a||_2\\cdot||b||_2}$$"
   ]
  },
  {
   "cell_type": "code",
   "execution_count": null,
   "metadata": {
    "id": "PPUehumi_x42"
   },
   "outputs": [],
   "source": [
    "import numpy as np\n",
    "\n",
    "\n",
    "def cal_euclidean(a, b):\n",
    "    ## Your code here\n",
    "    distance = np.linalg.norm(a - b)\n",
    "    return distance\n",
    "\n",
    "\n",
    "def cal_manhattan(a, b):\n",
    "    ## Your code here\n",
    "    distance = sum(abs(val1-val2) for val1, val2 in zip(a,b))\n",
    "    return distance\n",
    "\n",
    "\n",
    "def cal_cosine(a, b):\n",
    "    ## Your code here\n",
    "    distance = 1 - np.dot(a, b) / (np.sqrt(np.dot(a, a)) * np.sqrt(np.dot(b, b)))\n",
    "    return distance"
   ]
  },
  {
   "cell_type": "code",
   "execution_count": null,
   "metadata": {
    "colab": {
     "base_uri": "https://localhost:8080/"
    },
    "executionInfo": {
     "elapsed": 29,
     "status": "ok",
     "timestamp": 1694773578857,
     "user": {
      "displayName": "Никита Брындиков",
      "userId": "14945240629100559979"
     },
     "user_tz": -180
    },
    "id": "_KLf17wV_x43",
    "outputId": "220b7280-8901-44ff-921a-a27745e63092"
   },
   "outputs": [
    {
     "name": "stdout",
     "output_type": "stream",
     "text": [
      "[-10   9  -5   6  -3  -1  -3   9  -6   4]\n",
      "[ 0 -8  7 -8  6  9  4 -8  3  0]\n",
      "36.6742416417845\n",
      "109\n",
      "1.7310899976003804\n"
     ]
    }
   ],
   "source": [
    "a = np.random.randint(-10, 10, size=10)\n",
    "b = np.random.randint(-10, 10, size=10)\n",
    "print(a)\n",
    "print(b)\n",
    "print(cal_euclidean(a, b))\n",
    "print(cal_manhattan(a, b))\n",
    "print(cal_cosine(a, b))"
   ]
  },
  {
   "cell_type": "markdown",
   "metadata": {
    "id": "OXRqww1P_x44"
   },
   "source": [
    "## Задача 5\n",
    "\n",
    "Ну и напоследок, еще немного практики numpy, без которой не обходится ни один хоббит.\n"
   ]
  },
  {
   "cell_type": "markdown",
   "metadata": {
    "id": "SE5ezcG8_x44"
   },
   "source": [
    "Создайте случайный array (`np.random.rand()`) длинной 100. Преобразуйте его так, чтобы\n",
    "* Максимальный элемент(ы) был равен 1\n",
    "* Минимальный элемент(ы) был равен 0\n",
    "* Остальные элементы в итнтервале от 0 до 1 остаются прежними"
   ]
  },
  {
   "cell_type": "code",
   "execution_count": null,
   "metadata": {
    "colab": {
     "base_uri": "https://localhost:8080/"
    },
    "executionInfo": {
     "elapsed": 24,
     "status": "ok",
     "timestamp": 1694773578857,
     "user": {
      "displayName": "Никита Брындиков",
      "userId": "14945240629100559979"
     },
     "user_tz": -180
    },
    "id": "SgG03Vqy_x45",
    "outputId": "2e4d0254-a374-4daa-cbfe-2c198e5fe203"
   },
   "outputs": [
    {
     "name": "stdout",
     "output_type": "stream",
     "text": [
      "1.0 0.0\n",
      "[0.44829248 0.71410413 0.67543758 0.77833418 0.31870612 0.94207035\n",
      " 0.87301129 0.74048186 0.8193789  0.39195684 0.71025552 0.95548959\n",
      " 0.10921736 0.18724561 0.03586125 0.58655064 0.44836398 0.00787109\n",
      " 0.30722821 0.94518346 1.         0.00533671 0.49796012 0.52793307\n",
      " 0.54839325 0.24832686 0.41169461 0.32670829 0.4286571  0.46344212\n",
      " 0.03676736 0.08060968 0.26455131 0.30241117 0.99101906 0.54598476\n",
      " 0.03755201 0.17884705 0.95977362 0.16385848 0.36064319 0.41322611\n",
      " 0.52912804 0.74572855 0.02117753 0.08499769 0.19231949 0.00712385\n",
      " 0.83478971 0.257419   0.99949112 0.53706546 0.65003922 0.98159824\n",
      " 0.50277812 0.44359544 0.70549578 0.02632174 0.807328   0.06137331\n",
      " 0.22930993 0.71500782 0.86849724 0.49445958 0.87494441 0.03577097\n",
      " 0.44572624 0.49642883 0.13829843 0.656525   0.55240956 0.44111957\n",
      " 0.20220671 0.74234327 0.53886215 0.57908713 0.80563575 0.95057995\n",
      " 0.07305713 0.27044286 0.19786297 0.6608101  0.01019353 0.06011884\n",
      " 0.34620712 0.72808862 0.62101022 0.         0.07056738 0.44554318\n",
      " 0.81006267 0.82576733 0.26416032 0.4121603  0.18372504 0.38099407\n",
      " 0.91814776 0.09918253 0.283706   0.69302447]\n"
     ]
    }
   ],
   "source": [
    "my_array = np.random.rand(100)\n",
    "my_array = (my_array - np.min(my_array)) / (np.max(my_array) - np.min(my_array))\n",
    "print(np.max(my_array), np.min(my_array))\n",
    "print(my_array)"
   ]
  },
  {
   "cell_type": "markdown",
   "metadata": {
    "id": "-9mvTXal_x45"
   },
   "source": [
    "Создайте array размером $5 \\times 6$ с целыми числами в интервале [0,50]. Напечатайте колонку, которая содержит максимальный элемент полученной матрицы"
   ]
  },
  {
   "cell_type": "code",
   "execution_count": null,
   "metadata": {
    "colab": {
     "base_uri": "https://localhost:8080/"
    },
    "executionInfo": {
     "elapsed": 20,
     "status": "ok",
     "timestamp": 1694773578858,
     "user": {
      "displayName": "Никита Брындиков",
      "userId": "14945240629100559979"
     },
     "user_tz": -180
    },
    "id": "Jrm5C-52_x46",
    "outputId": "833fa0ff-8437-470a-9ade-ab1cc65f08ac"
   },
   "outputs": [
    {
     "name": "stdout",
     "output_type": "stream",
     "text": [
      "Shape:  (5, 6)\n",
      "Array\n",
      "[[ 8 17 48 24 26 23]\n",
      " [ 8 10  1 49 18 16]\n",
      " [10 46 35 37 27  5]\n",
      " [24 14 44 42  5 24]\n",
      " [ 4 46 45 49 32 41]]\n",
      "[24 49 37 42 49]\n"
     ]
    }
   ],
   "source": [
    "my_array = np.random.randint(0, 50, size=(5,6))\n",
    "selected_column = max(np.rot90(my_array), key = max)\n",
    "\n",
    "print('Shape: ', my_array.shape)\n",
    "print('Array')\n",
    "print(my_array)\n",
    "print(selected_column)"
   ]
  },
  {
   "cell_type": "markdown",
   "metadata": {
    "id": "GHQj3erW_x47"
   },
   "source": [
    "Напишите функцию, которая принимает на вохд матрицу (array) X и возвращает все её уникальные строки в виде новой матрицы."
   ]
  },
  {
   "cell_type": "code",
   "execution_count": null,
   "metadata": {
    "id": "fhGjHVbN_x47"
   },
   "outputs": [],
   "source": [
    "def get_unique_rows(X):\n",
    "    X_unique = set(tuple(row) for row in X)\n",
    "    X_unique = np.array(list(X_unique))\n",
    "    return X_unique"
   ]
  },
  {
   "cell_type": "code",
   "execution_count": null,
   "metadata": {
    "colab": {
     "base_uri": "https://localhost:8080/"
    },
    "executionInfo": {
     "elapsed": 17,
     "status": "ok",
     "timestamp": 1694773578859,
     "user": {
      "displayName": "Никита Брындиков",
      "userId": "14945240629100559979"
     },
     "user_tz": -180
    },
    "id": "9i2rx2iK_x48",
    "outputId": "1badd647-5c40-4df2-c162-a181d3c354e3"
   },
   "outputs": [
    {
     "name": "stdout",
     "output_type": "stream",
     "text": [
      "[[5 5 4]\n",
      " [4 5 5]\n",
      " [4 4 5]\n",
      " [5 5 5]\n",
      " [5 5 4]\n",
      " [5 4 4]\n",
      " [5 5 5]\n",
      " [5 5 4]\n",
      " [5 4 4]\n",
      " [4 5 5]]\n"
     ]
    }
   ],
   "source": [
    "X = np.random.randint(4, 6, size=(10, 3))\n",
    "print(X)"
   ]
  },
  {
   "cell_type": "code",
   "execution_count": null,
   "metadata": {
    "colab": {
     "base_uri": "https://localhost:8080/"
    },
    "executionInfo": {
     "elapsed": 15,
     "status": "ok",
     "timestamp": 1694773578859,
     "user": {
      "displayName": "Никита Брындиков",
      "userId": "14945240629100559979"
     },
     "user_tz": -180
    },
    "id": "t3e9H6dz_x48",
    "outputId": "2ded91ef-9785-4b2d-b98e-f18f7f2d3bd9"
   },
   "outputs": [
    {
     "data": {
      "text/plain": [
       "array([[5, 5, 5],\n",
       "       [4, 4, 5],\n",
       "       [5, 4, 4],\n",
       "       [5, 5, 4],\n",
       "       [4, 5, 5]])"
      ]
     },
     "execution_count": 30,
     "metadata": {},
     "output_type": "execute_result"
    }
   ],
   "source": [
    "get_unique_rows(X)"
   ]
  }
 ],
 "metadata": {
  "colab": {
   "provenance": []
  },
  "kernelspec": {
   "display_name": "Python 3 (ipykernel)",
   "language": "python",
   "name": "python3"
  },
  "language_info": {
   "codemirror_mode": {
    "name": "ipython",
    "version": 3
   },
   "file_extension": ".py",
   "mimetype": "text/x-python",
   "name": "python",
   "nbconvert_exporter": "python",
   "pygments_lexer": "ipython3",
   "version": "3.11.4"
  },
  "varInspector": {
   "cols": {
    "lenName": 16,
    "lenType": 16,
    "lenVar": 40
   },
   "kernels_config": {
    "python": {
     "delete_cmd_postfix": "",
     "delete_cmd_prefix": "del ",
     "library": "var_list.py",
     "varRefreshCmd": "print(var_dic_list())"
    },
    "r": {
     "delete_cmd_postfix": ") ",
     "delete_cmd_prefix": "rm(",
     "library": "var_list.r",
     "varRefreshCmd": "cat(var_dic_list()) "
    }
   },
   "types_to_exclude": [
    "module",
    "function",
    "builtin_function_or_method",
    "instance",
    "_Feature"
   ],
   "window_display": false
  }
 },
 "nbformat": 4,
 "nbformat_minor": 1
}
